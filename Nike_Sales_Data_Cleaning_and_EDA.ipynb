{
 "cells": [
  {
   "cell_type": "markdown",
   "id": "39e31da3",
   "metadata": {},
   "source": [
    "# Nike Sales Data Cleaning & EDA\n",
    "\n",
    "\n",
    "---\n",
    "\n",
    "## Table of Contents\n",
    "1. [Introduction](#introduction)\n",
    "2. [Import Libraries](#import-libraries)\n",
    "3. [Load Data](#load-data)\n",
    "4. [Initial Data Exploration](#initial-data-exploration)\n",
    "5. [Missing & Incorrect Data Handling](#data-cleaning)\n",
    "6. [Consistency & Transformation](#consistency)\n",
    "7. [Feature Engineering](#feature-engineering)\n",
    "8. [Outlier Detection](#outlier-detection)\n",
    "9. [Exploratory Data Analysis (EDA)](#eda)\n",
    "10. [Conclusion](#conclusion)\n"
   ]
  },
  {
   "cell_type": "markdown",
   "id": "d253398d",
   "metadata": {},
   "source": [
    "## <a name=\"introduction\"></a>1. Introduction\n",
    "This notebook covers the cleaning and exploratory analysis of Nike's uncleaned sales dataset. We address missing values, data inconsistencies, outliers, and generate insights for further modeling."
   ]
  },
  {
   "cell_type": "markdown",
   "id": "72110080",
   "metadata": {},
   "source": [
    "## <a name=\"import-libraries\"></a>2. Import Libraries"
   ]
  },
  {
   "cell_type": "code",
   "execution_count": 1,
   "id": "8aafe4af",
   "metadata": {},
   "outputs": [],
   "source": [
    "import pandas as pd\n",
    "import numpy as np\n",
    "import matplotlib.pyplot as plt\n",
    "import seaborn as sns\n",
    "import scipy.stats as stats"
   ]
  },
  {
   "cell_type": "markdown",
   "id": "2b558aa8",
   "metadata": {},
   "source": [
    "## <a name=\"load-data\"></a>3. Load Data"
   ]
  },
  {
   "cell_type": "code",
   "execution_count": 2,
   "id": "1cb74888",
   "metadata": {},
   "outputs": [],
   "source": [
    "# Load the dataset\n",
    "df = pd.read_csv('Nike_Sales_Uncleaned.csv')"
   ]
  },
  {
   "cell_type": "markdown",
   "id": "5d2cb2c3",
   "metadata": {},
   "source": [
    "## <a name=\"initial-data-exploration\"></a>4. Initial Data Exploration"
   ]
  },
  {
   "cell_type": "code",
   "execution_count": 3,
   "id": "bd48caa4",
   "metadata": {},
   "outputs": [
    {
     "data": {
      "text/html": [
       "<div>\n",
       "<style scoped>\n",
       "    .dataframe tbody tr th:only-of-type {\n",
       "        vertical-align: middle;\n",
       "    }\n",
       "\n",
       "    .dataframe tbody tr th {\n",
       "        vertical-align: top;\n",
       "    }\n",
       "\n",
       "    .dataframe thead th {\n",
       "        text-align: right;\n",
       "    }\n",
       "</style>\n",
       "<table border=\"1\" class=\"dataframe\">\n",
       "  <thead>\n",
       "    <tr style=\"text-align: right;\">\n",
       "      <th></th>\n",
       "      <th>Order_ID</th>\n",
       "      <th>Gender_Category</th>\n",
       "      <th>Product_Line</th>\n",
       "      <th>Product_Name</th>\n",
       "      <th>Size</th>\n",
       "      <th>Units_Sold</th>\n",
       "      <th>MRP</th>\n",
       "      <th>Discount_Applied</th>\n",
       "      <th>Revenue</th>\n",
       "      <th>Order_Date</th>\n",
       "      <th>Sales_Channel</th>\n",
       "      <th>Region</th>\n",
       "      <th>Profit</th>\n",
       "    </tr>\n",
       "  </thead>\n",
       "  <tbody>\n",
       "    <tr>\n",
       "      <th>0</th>\n",
       "      <td>2000</td>\n",
       "      <td>Kids</td>\n",
       "      <td>Training</td>\n",
       "      <td>SuperRep Go</td>\n",
       "      <td>M</td>\n",
       "      <td>NaN</td>\n",
       "      <td>NaN</td>\n",
       "      <td>0.47</td>\n",
       "      <td>0.0</td>\n",
       "      <td>2024-03-09</td>\n",
       "      <td>Online</td>\n",
       "      <td>bengaluru</td>\n",
       "      <td>-770.45</td>\n",
       "    </tr>\n",
       "    <tr>\n",
       "      <th>1</th>\n",
       "      <td>2001</td>\n",
       "      <td>Women</td>\n",
       "      <td>Soccer</td>\n",
       "      <td>Tiempo Legend</td>\n",
       "      <td>M</td>\n",
       "      <td>3.0</td>\n",
       "      <td>4957.93</td>\n",
       "      <td>NaN</td>\n",
       "      <td>0.0</td>\n",
       "      <td>2024-07-09</td>\n",
       "      <td>Retail</td>\n",
       "      <td>Hyd</td>\n",
       "      <td>-112.53</td>\n",
       "    </tr>\n",
       "    <tr>\n",
       "      <th>2</th>\n",
       "      <td>2002</td>\n",
       "      <td>Women</td>\n",
       "      <td>Soccer</td>\n",
       "      <td>Premier III</td>\n",
       "      <td>M</td>\n",
       "      <td>4.0</td>\n",
       "      <td>NaN</td>\n",
       "      <td>NaN</td>\n",
       "      <td>0.0</td>\n",
       "      <td>NaN</td>\n",
       "      <td>Retail</td>\n",
       "      <td>Mumbai</td>\n",
       "      <td>3337.34</td>\n",
       "    </tr>\n",
       "    <tr>\n",
       "      <th>3</th>\n",
       "      <td>2003</td>\n",
       "      <td>Kids</td>\n",
       "      <td>Lifestyle</td>\n",
       "      <td>Blazer Mid</td>\n",
       "      <td>L</td>\n",
       "      <td>NaN</td>\n",
       "      <td>9673.57</td>\n",
       "      <td>NaN</td>\n",
       "      <td>0.0</td>\n",
       "      <td>04-10-2024</td>\n",
       "      <td>Online</td>\n",
       "      <td>Pune</td>\n",
       "      <td>3376.85</td>\n",
       "    </tr>\n",
       "    <tr>\n",
       "      <th>4</th>\n",
       "      <td>2004</td>\n",
       "      <td>Kids</td>\n",
       "      <td>Running</td>\n",
       "      <td>React Infinity</td>\n",
       "      <td>XL</td>\n",
       "      <td>NaN</td>\n",
       "      <td>NaN</td>\n",
       "      <td>NaN</td>\n",
       "      <td>0.0</td>\n",
       "      <td>2024/09/12</td>\n",
       "      <td>Retail</td>\n",
       "      <td>Delhi</td>\n",
       "      <td>187.89</td>\n",
       "    </tr>\n",
       "  </tbody>\n",
       "</table>\n",
       "</div>"
      ],
      "text/plain": [
       "   Order_ID Gender_Category Product_Line    Product_Name Size  Units_Sold  \\\n",
       "0      2000            Kids     Training     SuperRep Go    M         NaN   \n",
       "1      2001           Women       Soccer   Tiempo Legend    M         3.0   \n",
       "2      2002           Women       Soccer     Premier III    M         4.0   \n",
       "3      2003            Kids    Lifestyle      Blazer Mid    L         NaN   \n",
       "4      2004            Kids      Running  React Infinity   XL         NaN   \n",
       "\n",
       "       MRP  Discount_Applied  Revenue  Order_Date Sales_Channel     Region  \\\n",
       "0      NaN              0.47      0.0  2024-03-09        Online  bengaluru   \n",
       "1  4957.93               NaN      0.0  2024-07-09        Retail        Hyd   \n",
       "2      NaN               NaN      0.0         NaN        Retail     Mumbai   \n",
       "3  9673.57               NaN      0.0  04-10-2024        Online       Pune   \n",
       "4      NaN               NaN      0.0  2024/09/12        Retail      Delhi   \n",
       "\n",
       "    Profit  \n",
       "0  -770.45  \n",
       "1  -112.53  \n",
       "2  3337.34  \n",
       "3  3376.85  \n",
       "4   187.89  "
      ]
     },
     "execution_count": 3,
     "metadata": {},
     "output_type": "execute_result"
    }
   ],
   "source": [
    "# Preview the data\n",
    "df.head()"
   ]
  },
  {
   "cell_type": "code",
   "execution_count": 4,
   "id": "682e100b",
   "metadata": {},
   "outputs": [
    {
     "data": {
      "text/html": [
       "<div>\n",
       "<style scoped>\n",
       "    .dataframe tbody tr th:only-of-type {\n",
       "        vertical-align: middle;\n",
       "    }\n",
       "\n",
       "    .dataframe tbody tr th {\n",
       "        vertical-align: top;\n",
       "    }\n",
       "\n",
       "    .dataframe thead th {\n",
       "        text-align: right;\n",
       "    }\n",
       "</style>\n",
       "<table border=\"1\" class=\"dataframe\">\n",
       "  <thead>\n",
       "    <tr style=\"text-align: right;\">\n",
       "      <th></th>\n",
       "      <th>Order_ID</th>\n",
       "      <th>Gender_Category</th>\n",
       "      <th>Product_Line</th>\n",
       "      <th>Product_Name</th>\n",
       "      <th>Size</th>\n",
       "      <th>Units_Sold</th>\n",
       "      <th>MRP</th>\n",
       "      <th>Discount_Applied</th>\n",
       "      <th>Revenue</th>\n",
       "      <th>Order_Date</th>\n",
       "      <th>Sales_Channel</th>\n",
       "      <th>Region</th>\n",
       "      <th>Profit</th>\n",
       "    </tr>\n",
       "  </thead>\n",
       "  <tbody>\n",
       "    <tr>\n",
       "      <th>2495</th>\n",
       "      <td>4495</td>\n",
       "      <td>Kids</td>\n",
       "      <td>Basketball</td>\n",
       "      <td>Kyrie Flytrap</td>\n",
       "      <td>XL</td>\n",
       "      <td>3.0</td>\n",
       "      <td>NaN</td>\n",
       "      <td>NaN</td>\n",
       "      <td>0.0</td>\n",
       "      <td>2025-05-14</td>\n",
       "      <td>Online</td>\n",
       "      <td>Pune</td>\n",
       "      <td>2.97</td>\n",
       "    </tr>\n",
       "    <tr>\n",
       "      <th>2496</th>\n",
       "      <td>4496</td>\n",
       "      <td>Men</td>\n",
       "      <td>Basketball</td>\n",
       "      <td>Kyrie Flytrap</td>\n",
       "      <td>L</td>\n",
       "      <td>-1.0</td>\n",
       "      <td>NaN</td>\n",
       "      <td>NaN</td>\n",
       "      <td>0.0</td>\n",
       "      <td>NaN</td>\n",
       "      <td>Online</td>\n",
       "      <td>Hyd</td>\n",
       "      <td>-487.36</td>\n",
       "    </tr>\n",
       "    <tr>\n",
       "      <th>2497</th>\n",
       "      <td>4497</td>\n",
       "      <td>Men</td>\n",
       "      <td>Soccer</td>\n",
       "      <td>Tiempo Legend</td>\n",
       "      <td>7</td>\n",
       "      <td>NaN</td>\n",
       "      <td>6647.60</td>\n",
       "      <td>0.52</td>\n",
       "      <td>0.0</td>\n",
       "      <td>02-07-2025</td>\n",
       "      <td>Retail</td>\n",
       "      <td>Bangalore</td>\n",
       "      <td>-918.14</td>\n",
       "    </tr>\n",
       "    <tr>\n",
       "      <th>2498</th>\n",
       "      <td>4498</td>\n",
       "      <td>Women</td>\n",
       "      <td>Training</td>\n",
       "      <td>ZoomX Invincible</td>\n",
       "      <td>NaN</td>\n",
       "      <td>4.0</td>\n",
       "      <td>5358.70</td>\n",
       "      <td>NaN</td>\n",
       "      <td>0.0</td>\n",
       "      <td>11-12-2024</td>\n",
       "      <td>Online</td>\n",
       "      <td>Mumbai</td>\n",
       "      <td>3352.29</td>\n",
       "    </tr>\n",
       "    <tr>\n",
       "      <th>2499</th>\n",
       "      <td>4499</td>\n",
       "      <td>Women</td>\n",
       "      <td>Running</td>\n",
       "      <td>Air Zoom</td>\n",
       "      <td>M</td>\n",
       "      <td>NaN</td>\n",
       "      <td>5550.99</td>\n",
       "      <td>NaN</td>\n",
       "      <td>0.0</td>\n",
       "      <td>23-11-2024</td>\n",
       "      <td>Retail</td>\n",
       "      <td>Mumbai</td>\n",
       "      <td>2453.57</td>\n",
       "    </tr>\n",
       "  </tbody>\n",
       "</table>\n",
       "</div>"
      ],
      "text/plain": [
       "      Order_ID Gender_Category Product_Line      Product_Name Size  \\\n",
       "2495      4495            Kids   Basketball     Kyrie Flytrap   XL   \n",
       "2496      4496             Men   Basketball     Kyrie Flytrap    L   \n",
       "2497      4497             Men       Soccer     Tiempo Legend    7   \n",
       "2498      4498           Women     Training  ZoomX Invincible  NaN   \n",
       "2499      4499           Women      Running          Air Zoom    M   \n",
       "\n",
       "      Units_Sold      MRP  Discount_Applied  Revenue  Order_Date  \\\n",
       "2495         3.0      NaN               NaN      0.0  2025-05-14   \n",
       "2496        -1.0      NaN               NaN      0.0         NaN   \n",
       "2497         NaN  6647.60              0.52      0.0  02-07-2025   \n",
       "2498         4.0  5358.70               NaN      0.0  11-12-2024   \n",
       "2499         NaN  5550.99               NaN      0.0  23-11-2024   \n",
       "\n",
       "     Sales_Channel     Region   Profit  \n",
       "2495        Online       Pune     2.97  \n",
       "2496        Online        Hyd  -487.36  \n",
       "2497        Retail  Bangalore  -918.14  \n",
       "2498        Online     Mumbai  3352.29  \n",
       "2499        Retail     Mumbai  2453.57  "
      ]
     },
     "execution_count": 4,
     "metadata": {},
     "output_type": "execute_result"
    }
   ],
   "source": [
    "# Check tail for last rows\n",
    "df.tail()"
   ]
  },
  {
   "cell_type": "code",
   "execution_count": 5,
   "id": "07527343",
   "metadata": {},
   "outputs": [
    {
     "name": "stdout",
     "output_type": "stream",
     "text": [
      "<class 'pandas.core.frame.DataFrame'>\n",
      "RangeIndex: 2500 entries, 0 to 2499\n",
      "Data columns (total 13 columns):\n",
      " #   Column            Non-Null Count  Dtype  \n",
      "---  ------            --------------  -----  \n",
      " 0   Order_ID          2500 non-null   int64  \n",
      " 1   Gender_Category   2500 non-null   object \n",
      " 2   Product_Line      2500 non-null   object \n",
      " 3   Product_Name      2500 non-null   object \n",
      " 4   Size              1990 non-null   object \n",
      " 5   Units_Sold        1265 non-null   float64\n",
      " 6   MRP               1246 non-null   float64\n",
      " 7   Discount_Applied  832 non-null    float64\n",
      " 8   Revenue           2500 non-null   float64\n",
      " 9   Order_Date        1884 non-null   object \n",
      " 10  Sales_Channel     2500 non-null   object \n",
      " 11  Region            2500 non-null   object \n",
      " 12  Profit            2500 non-null   float64\n",
      "dtypes: float64(5), int64(1), object(7)\n",
      "memory usage: 254.0+ KB\n"
     ]
    }
   ],
   "source": [
    "# Data info\n",
    "df.info()"
   ]
  },
  {
   "cell_type": "code",
   "execution_count": 6,
   "id": "eb92a0a9",
   "metadata": {},
   "outputs": [
    {
     "data": {
      "text/html": [
       "<div>\n",
       "<style scoped>\n",
       "    .dataframe tbody tr th:only-of-type {\n",
       "        vertical-align: middle;\n",
       "    }\n",
       "\n",
       "    .dataframe tbody tr th {\n",
       "        vertical-align: top;\n",
       "    }\n",
       "\n",
       "    .dataframe thead th {\n",
       "        text-align: right;\n",
       "    }\n",
       "</style>\n",
       "<table border=\"1\" class=\"dataframe\">\n",
       "  <thead>\n",
       "    <tr style=\"text-align: right;\">\n",
       "      <th></th>\n",
       "      <th>Order_ID</th>\n",
       "      <th>Units_Sold</th>\n",
       "      <th>MRP</th>\n",
       "      <th>Discount_Applied</th>\n",
       "      <th>Revenue</th>\n",
       "      <th>Profit</th>\n",
       "    </tr>\n",
       "  </thead>\n",
       "  <tbody>\n",
       "    <tr>\n",
       "      <th>count</th>\n",
       "      <td>2500.000000</td>\n",
       "      <td>1265.000000</td>\n",
       "      <td>1246.000000</td>\n",
       "      <td>832.000000</td>\n",
       "      <td>2500.000000</td>\n",
       "      <td>2500.000000</td>\n",
       "    </tr>\n",
       "    <tr>\n",
       "      <th>mean</th>\n",
       "      <td>3194.352400</td>\n",
       "      <td>1.482213</td>\n",
       "      <td>6039.863395</td>\n",
       "      <td>0.631022</td>\n",
       "      <td>274.873716</td>\n",
       "      <td>1376.012848</td>\n",
       "    </tr>\n",
       "    <tr>\n",
       "      <th>std</th>\n",
       "      <td>749.972638</td>\n",
       "      <td>1.696947</td>\n",
       "      <td>2315.746826</td>\n",
       "      <td>0.365500</td>\n",
       "      <td>2023.773550</td>\n",
       "      <td>1478.671013</td>\n",
       "    </tr>\n",
       "    <tr>\n",
       "      <th>min</th>\n",
       "      <td>2000.000000</td>\n",
       "      <td>-1.000000</td>\n",
       "      <td>2006.630000</td>\n",
       "      <td>0.000000</td>\n",
       "      <td>-7561.590000</td>\n",
       "      <td>-1199.450000</td>\n",
       "    </tr>\n",
       "    <tr>\n",
       "      <th>25%</th>\n",
       "      <td>2534.750000</td>\n",
       "      <td>0.000000</td>\n",
       "      <td>4038.902500</td>\n",
       "      <td>0.320000</td>\n",
       "      <td>0.000000</td>\n",
       "      <td>93.532500</td>\n",
       "    </tr>\n",
       "    <tr>\n",
       "      <th>50%</th>\n",
       "      <td>3192.500000</td>\n",
       "      <td>2.000000</td>\n",
       "      <td>6110.030000</td>\n",
       "      <td>0.615000</td>\n",
       "      <td>0.000000</td>\n",
       "      <td>1371.385000</td>\n",
       "    </tr>\n",
       "    <tr>\n",
       "      <th>75%</th>\n",
       "      <td>3841.250000</td>\n",
       "      <td>3.000000</td>\n",
       "      <td>8022.187500</td>\n",
       "      <td>0.962500</td>\n",
       "      <td>0.000000</td>\n",
       "      <td>2660.645000</td>\n",
       "    </tr>\n",
       "    <tr>\n",
       "      <th>max</th>\n",
       "      <td>4499.000000</td>\n",
       "      <td>4.000000</td>\n",
       "      <td>9996.220000</td>\n",
       "      <td>1.250000</td>\n",
       "      <td>37169.350000</td>\n",
       "      <td>3999.210000</td>\n",
       "    </tr>\n",
       "  </tbody>\n",
       "</table>\n",
       "</div>"
      ],
      "text/plain": [
       "          Order_ID   Units_Sold          MRP  Discount_Applied       Revenue  \\\n",
       "count  2500.000000  1265.000000  1246.000000        832.000000   2500.000000   \n",
       "mean   3194.352400     1.482213  6039.863395          0.631022    274.873716   \n",
       "std     749.972638     1.696947  2315.746826          0.365500   2023.773550   \n",
       "min    2000.000000    -1.000000  2006.630000          0.000000  -7561.590000   \n",
       "25%    2534.750000     0.000000  4038.902500          0.320000      0.000000   \n",
       "50%    3192.500000     2.000000  6110.030000          0.615000      0.000000   \n",
       "75%    3841.250000     3.000000  8022.187500          0.962500      0.000000   \n",
       "max    4499.000000     4.000000  9996.220000          1.250000  37169.350000   \n",
       "\n",
       "            Profit  \n",
       "count  2500.000000  \n",
       "mean   1376.012848  \n",
       "std    1478.671013  \n",
       "min   -1199.450000  \n",
       "25%      93.532500  \n",
       "50%    1371.385000  \n",
       "75%    2660.645000  \n",
       "max    3999.210000  "
      ]
     },
     "execution_count": 6,
     "metadata": {},
     "output_type": "execute_result"
    }
   ],
   "source": [
    "# Summary statistics\n",
    "df.describe()"
   ]
  },
  {
   "cell_type": "markdown",
   "id": "9589af53",
   "metadata": {},
   "source": [
    "## <a name=\"data-cleaning\"></a>5. Missing & Incorrect Data Handling"
   ]
  },
  {
   "cell_type": "code",
   "execution_count": 7,
   "id": "b3380072",
   "metadata": {},
   "outputs": [
    {
     "name": "stdout",
     "output_type": "stream",
     "text": [
      "<class 'pandas.core.frame.DataFrame'>\n",
      "RangeIndex: 2500 entries, 0 to 2499\n",
      "Data columns (total 15 columns):\n",
      " #   Column               Non-Null Count  Dtype         \n",
      "---  ------               --------------  -----         \n",
      " 0   Order_ID             2500 non-null   int64         \n",
      " 1   Gender_Category      2500 non-null   object        \n",
      " 2   Product_Line         2500 non-null   object        \n",
      " 3   Product_Name         2500 non-null   object        \n",
      " 4   Size                 2500 non-null   object        \n",
      " 5   MRP                  2500 non-null   float64       \n",
      " 6   Discount_Applied     2500 non-null   float64       \n",
      " 7   Revenue              2500 non-null   float64       \n",
      " 8   Order_Date           2500 non-null   datetime64[ns]\n",
      " 9   Sales_Channel        2500 non-null   object        \n",
      " 10  Region               2500 non-null   object        \n",
      " 11  Profit               2500 non-null   float64       \n",
      " 12  Units_Sold_Positive  2500 non-null   int64         \n",
      " 13  Units_Returned       2500 non-null   int64         \n",
      " 14  Loss                 2500 non-null   float64       \n",
      "dtypes: datetime64[ns](1), float64(5), int64(3), object(6)\n",
      "memory usage: 293.1+ KB\n"
     ]
    }
   ],
   "source": [
    "# Convert Order_Date to datetime and fill missing values\n",
    "df['Order_Date'] = df['Order_Date'].astype('datetime64[ns]').ffill()\n",
    "\n",
    "# Handle Units_Sold: clip negatives, fill NA\n",
    "df['Units_Sold_Positive'] = df['Units_Sold'].clip(lower=0).fillna(0).astype('int')\n",
    "df['Units_Returned'] = df[df['Units_Sold'] < 0]['Units_Sold'].abs()\n",
    "df['Units_Returned'] = df['Units_Returned'].fillna(0).astype('int')\n",
    "df = df.drop(columns='Units_Sold')\n",
    "\n",
    "# Fill Discount_Applied\n",
    "df['Discount_Applied'] = df['Discount_Applied'].fillna(0)\n",
    "\n",
    "# Handle Profit and Loss\n",
    "df['Loss'] = df[df['Profit'] < 0]['Profit'].abs()\n",
    "df['Loss'] = df['Loss'].fillna(0)\n",
    "df['Profit'] = df['Profit'].clip(lower=0)\n",
    "\n",
    "# Fill missing MRP with mean per Product_Line\n",
    "df['MRP'] = df['MRP'].fillna(df.groupby('Product_Line')['MRP'].transform('mean').round(2))\n",
    "\n",
    "# Fill missing Size with mode per Product_Line\n",
    "df['Size'] = df['Size'].fillna(df.groupby('Product_Line')['Size'].transform(lambda x: x.mode()[0]))\n",
    "\n",
    "df.info()"
   ]
  },
  {
   "cell_type": "markdown",
   "id": "1f74b639",
   "metadata": {},
   "source": [
    "## <a name=\"consistency\"></a>6. Consistency & Transformation"
   ]
  },
  {
   "cell_type": "code",
   "execution_count": 8,
   "id": "f5d89ba0",
   "metadata": {},
   "outputs": [
    {
     "data": {
      "text/plain": [
       "array(['Bengaluru', 'Hyderabad', 'Mumbai', 'Pune', 'Delhi', 'Bangalore',\n",
       "       'Kolkata'], dtype=object)"
      ]
     },
     "execution_count": 8,
     "metadata": {},
     "output_type": "execute_result"
    }
   ],
   "source": [
    "# Consistent date and region formatting\n",
    "df['Order_Date'] = pd.to_datetime(df['Order_Date'])\n",
    "df['Region'] = df['Region'].str.title()\n",
    "df['Region'] = df['Region'].replace(['Hyd','Hyderabad','hyderbad','Hyderbad'], 'Hyderabad')\n",
    "df['Region'].unique()"
   ]
  },
  {
   "cell_type": "code",
   "execution_count": 9,
   "id": "b06cc67a",
   "metadata": {},
   "outputs": [],
   "source": [
    "# Uniform discount formatting\n",
    "df['Discount_Applied'] = df['Discount_Applied'].apply(lambda x: f\"{x:.2f}\").astype(float)"
   ]
  },
  {
   "cell_type": "markdown",
   "id": "406e318a",
   "metadata": {},
   "source": [
    "## <a name=\"feature-engineering\"></a>7. Feature Engineering"
   ]
  },
  {
   "cell_type": "code",
   "execution_count": 10,
   "id": "68f4ed1c",
   "metadata": {},
   "outputs": [],
   "source": [
    "# Set Revenue to 0 if unit is returned\n",
    "df.loc[(df['Units_Returned'] == 0) & (df['Revenue'] < 0), 'Revenue'] = 0\n",
    "\n",
    "# Flag outliers for key columns using IQR\n",
    "def flag_outliers_iqr(df, col):\n",
    "    Q1 = df[col].quantile(0.25)\n",
    "    Q3 = df[col].quantile(0.75)\n",
    "    IQR = Q3 - Q1\n",
    "    lower = Q1 - 1.5 * IQR\n",
    "    upper = Q3 + 1.5 * IQR\n",
    "    df[f'{col}_outlier'] = ~df[col].between(lower, upper)\n",
    "    df[f'{col}_outlier'] = df[f'{col}_outlier'].astype(int)\n",
    "\n",
    "for col in ['MRP','Revenue', 'Profit', 'Loss']:\n",
    "    flag_outliers_iqr(df, col)"
   ]
  },
  {
   "cell_type": "markdown",
   "id": "4c01929a",
   "metadata": {},
   "source": [
    "## <a name=\"outlier-detection\"></a>8. Outlier Detection"
   ]
  },
  {
   "cell_type": "code",
   "execution_count": 11,
   "id": "4e085ab9",
   "metadata": {},
   "outputs": [
    {
     "data": {
      "image/png": "[encoded data removed]",
      "text/plain": [
       "<Figure size 1000x500 with 1 Axes>"
      ]
     },
     "metadata": {},
     "output_type": "display_data"
    }
   ],
   "source": [
    "# Boxplot of key variables\n",
    "plt.figure(figsize=(10,5))\n",
    "plt.boxplot([df['MRP'],df['Profit'],df['Loss'],df['Revenue']],\n",
    "            positions=[1,5,10,15], patch_artist=True)\n",
    "plt.title('Boxplot of MRP, Profit, Loss, Revenue')\n",
    "plt.xticks([1,5,10,15], ['MRP', 'Profit', 'Loss','Revenue'])\n",
    "plt.show()"
   ]
  },
  {
   "cell_type": "code",
   "execution_count": 12,
   "id": "06c3bf88",
   "metadata": {},
   "outputs": [
    {
     "data": {
      "image/png": "[encoded data removed]",
      "text/plain": [
       "<Figure size 640x480 with 6 Axes>"
      ]
     },
     "metadata": {},
     "output_type": "display_data"
    }
   ],
   "source": [
    "# Histograms\n",
    "df[['Revenue','MRP','Discount_Applied','Profit','Loss']].hist()\n",
    "plt.tight_layout()\n",
    "plt.show()"
   ]
  },
  {
   "cell_type": "markdown",
   "id": "756377c4",
   "metadata": {},
   "source": [
    "## <a name=\"eda\"></a>9. Exploratory Data Analysis (EDA)\n",
    "\n",
    "### Distribution Analysis"
   ]
  },
  {
   "cell_type": "code",
   "execution_count": 13,
   "id": "8bcdc5a5",
   "metadata": {},
   "outputs": [
    {
     "data": {
      "text/plain": [
       "Product_Line\n",
       "Training      546\n",
       "Basketball    507\n",
       "Lifestyle     501\n",
       "Running       474\n",
       "Soccer        472\n",
       "Name: count, dtype: int64"
      ]
     },
     "execution_count": 13,
     "metadata": {},
     "output_type": "execute_result"
    }
   ],
   "source": [
    "# Product line distribution\n",
    "df['Product_Line'].value_counts()"
   ]
  },
  {
   "cell_type": "code",
   "execution_count": 14,
   "id": "cb429c8b",
   "metadata": {},
   "outputs": [
    {
     "data": {
      "text/plain": [
       "Product_Line  Size\n",
       "Basketball    XL      228\n",
       "              L       109\n",
       "              M        85\n",
       "              11       17\n",
       "              10       14\n",
       "              6        13\n",
       "              12       12\n",
       "              9        11\n",
       "              7        10\n",
       "              8         8\n",
       "Lifestyle     L       213\n",
       "              XL      107\n",
       "              M        84\n",
       "              7        18\n",
       "              9        18\n",
       "              10       13\n",
       "              11       13\n",
       "              6        13\n",
       "              8        12\n",
       "              12       10\n",
       "Running       L       205\n",
       "              XL       91\n",
       "              M        85\n",
       "              7        19\n",
       "              10       17\n",
       "              11       12\n",
       "              6        12\n",
       "              8        12\n",
       "              12       11\n",
       "              9        10\n",
       "Soccer        M       207\n",
       "              XL       85\n",
       "              L        81\n",
       "              7        20\n",
       "              10       17\n",
       "              9        15\n",
       "              8        14\n",
       "              11       12\n",
       "              12       12\n",
       "              6         9\n",
       "Training      M       232\n",
       "              XL      104\n",
       "              L        97\n",
       "              11       23\n",
       "              7        19\n",
       "              12       16\n",
       "              10       15\n",
       "              8        14\n",
       "              9        14\n",
       "              6        12\n",
       "Name: count, dtype: int64"
      ]
     },
     "execution_count": 14,
     "metadata": {},
     "output_type": "execute_result"
    }
   ],
   "source": [
    "# Product line and size relationship\n",
    "df.groupby('Product_Line')['Size'].value_counts()"
   ]
  },
  {
   "cell_type": "markdown",
   "id": "1b8eda9f",
   "metadata": {},
   "source": [
    "### Sales by Product Line"
   ]
  },
  {
   "cell_type": "code",
   "execution_count": 15,
   "id": "7ae4f966",
   "metadata": {},
   "outputs": [
    {
     "data": {
      "image/png": "[encoded data removed]",
      "text/plain": [
       "<Figure size 500x400 with 1 Axes>"
      ]
     },
     "metadata": {},
     "output_type": "display_data"
    }
   ],
   "source": [
    "product_sales = df.groupby('Product_Line')['Units_Sold_Positive'].sum()\n",
    "product_sales.sort_values(ascending=False, inplace=True)\n",
    "plt.figure(figsize=(5,4))\n",
    "plt.bar(product_sales.index, product_sales.values)\n",
    "plt.xlabel('Product Line')\n",
    "plt.ylabel('Total Sales')\n",
    "plt.title('Total Sales by Product Line')\n",
    "plt.tight_layout()\n",
    "plt.show()"
   ]
  },
  {
   "cell_type": "markdown",
   "id": "03e9522c-7f09-4ca8-9397-aa63906e0046",
   "metadata": {},
   "source": [
    "### Total Sales by Region "
   ]
  },
  {
   "cell_type": "code",
   "execution_count": 16,
   "id": "0b88435c-02b8-4d31-8918-9a0289aadc73",
   "metadata": {},
   "outputs": [
    {
     "data": {
      "image/png": "[encoded data removed]",
      "text/plain": [
       "<Figure size 700x700 with 1 Axes>"
      ]
     },
     "metadata": {},
     "output_type": "display_data"
    }
   ],
   "source": [
    "\n",
    "region_sales = df.groupby(\"Region\")[\"Units_Sold_Positive\"].sum()\n",
    "plt.figure(figsize=(7, 7))\n",
    "plt.pie(region_sales, labels=region_sales.index, autopct='%1.1f%%', startangle=140, colors=sns.color_palette('pastel'))\n",
    "plt.title(\"Total Sales Distribution by Region\")\n",
    "plt.tight_layout()\n",
    "plt.show()"
   ]
  },
  {
   "cell_type": "markdown",
   "id": "ab50a3c1",
   "metadata": {},
   "source": [
    "### Size Category Engineering Example"
   ]
  },
  {
   "cell_type": "code",
   "execution_count": 17,
   "id": "1bb8d381",
   "metadata": {},
   "outputs": [
    {
     "data": {
      "text/plain": [
       "Size_Category\n",
       "M     214\n",
       "L     153\n",
       "XL     61\n",
       "Name: count, dtype: int64"
      ]
     },
     "metadata": {},
     "output_type": "display_data"
    }
   ],
   "source": [
    "# Convert Size to numeric and categorize\n",
    "numeric_size = pd.to_numeric(df['Size'], errors='coerce')\n",
    "bins = [6, 9, 11, 12]\n",
    "labels = ['M', 'L', 'XL']\n",
    "df['Size_Category'] = pd.cut(numeric_size, bins=bins, labels=labels, right=True)\n",
    "display(df['Size_Category'].value_counts())"
   ]
  },
  {
   "cell_type": "markdown",
   "id": "b47f36ee",
   "metadata": {},
   "source": [
    "### Correlation Analysis"
   ]
  },
  {
   "cell_type": "code",
   "execution_count": 19,
   "id": "254e6ada",
   "metadata": {},
   "outputs": [
    {
     "data": {
      "text/plain": [
       "Order_ID              -0.035489\n",
       "MRP                    1.000000\n",
       "Discount_Applied       0.042300\n",
       "Revenue                0.053488\n",
       "Profit                -0.031869\n",
       "Units_Sold_Positive   -0.017924\n",
       "Units_Returned        -0.006522\n",
       "Loss                   0.022003\n",
       "MRP_outlier           -0.000813\n",
       "Revenue_outlier        0.002433\n",
       "Profit_outlier              NaN\n",
       "Loss_outlier           0.020668\n",
       "Name: MRP, dtype: float64"
      ]
     },
     "execution_count": 19,
     "metadata": {},
     "output_type": "execute_result"
    }
   ],
   "source": [
    "df.select_dtypes(include=['number']).corr()['MRP']"
   ]
  },
  {
   "cell_type": "markdown",
   "id": "fa3e8c4e",
   "metadata": {},
   "source": [
    "## <a name=\"conclusion\"></a>10. Conclusion\n",
    "\n",
    "This notebook demonstrates the professional cleaning, transformation, and exploration of Nike sales data. The workflow ensures:\n",
    "- Data consistency and handling of missing/incorrect values\n",
    "- Outlier flagging and visualization\n",
    "- Feature engineering for improved analysis\n",
    "- EDA for actionable business insights\n",
    "\n",
    "---\n",
    "\n",
    "### **Tips for Professional Notebooks**\n",
    "- Use **markdown cells** for explanations and section headers.\n",
    "- Comment code blocks and explain each step.\n",
    "- Visualize key results (plots, tables).\n",
    "- Keep cell outputs relevant and clean.\n",
    "- Add a summary/conclusion."
   ]
  },
  {
   "cell_type": "code",
   "execution_count": null,
   "id": "9550a3a7-65a3-41af-915a-90a08bf1593d",
   "metadata": {},
   "outputs": [],
   "source": []
  }
 ],
 "metadata": {
  "kernelspec": {
   "display_name": "Python 3 (ipykernel)",
   "language": "python",
   "name": "python3"
  },
  "language_info": {
   "codemirror_mode": {
    "name": "ipython",
    "version": 3
   },
   "file_extension": ".py",
   "mimetype": "text/x-python",
   "name": "python",
   "nbconvert_exporter": "python",
   "pygments_lexer": "ipython3",
   "version": "3.13.0"
  }
 },
 "nbformat": 4,
 "nbformat_minor": 5
}
